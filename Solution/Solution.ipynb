{
 "cells": [
  {
   "cell_type": "code",
   "execution_count": 1,
   "metadata": {},
   "outputs": [],
   "source": [
    "import numpy as np\n",
    "import matplotlib.pyplot as plt"
   ]
  },
  {
   "cell_type": "markdown",
   "metadata": {},
   "source": [
    "Challenge: Solve all the problems with Monte Carlo"
   ]
  },
  {
   "cell_type": "markdown",
   "metadata": {},
   "source": [
    "# Question 1\n",
    "## Project Euler \n",
    "### Under the rainbow (no 493)\n",
    "\n",
    "https://projecteuler.net/problem=493\n",
    "\n",
    "70 coloured balls are placed in an urn, 10 for each of the seven rainbow colours.\n",
    "\n",
    "What is the expected number of distinct colours in 20 randomly picked balls?"
   ]
  },
  {
   "cell_type": "code",
   "execution_count": 2,
   "metadata": {},
   "outputs": [
    {
     "data": {
      "text/plain": [
       "6.6817"
      ]
     },
     "execution_count": 2,
     "metadata": {},
     "output_type": "execute_result"
    }
   ],
   "source": [
    "# Solution 1\n",
    "n = 10000\n",
    "urn = [1,2,3,4,5,6,7] * 10\n",
    "trials = []\n",
    "for _ in range(n):\n",
    "    choices = np.random.choice(urn, 20)\n",
    "    distinct_colors = len(np.unique(choices))\n",
    "    trials.append(distinct_colors)\n",
    "sum(trials)/len(trials)"
   ]
  },
  {
   "cell_type": "markdown",
   "metadata": {},
   "source": [
    "# Question 2\n",
    "\n",
    "Estimate the number pi"
   ]
  },
  {
   "cell_type": "code",
   "execution_count": 3,
   "metadata": {},
   "outputs": [
    {
     "data": {
      "text/plain": [
       "<matplotlib.collections.PathCollection at 0x1181ad240>"
      ]
     },
     "execution_count": 3,
     "metadata": {},
     "output_type": "execute_result"
    },
    {
     "data": {
      "image/png": "[encoded data removed]",
      "text/plain": [
       "<Figure size 360x360 with 1 Axes>"
      ]
     },
     "metadata": {
      "needs_background": "light"
     },
     "output_type": "display_data"
    }
   ],
   "source": [
    "# Solution 2\n",
    "# Visualization of the procedure\n",
    "# Ratio of dots falling into the circle is pi/4\n",
    "\n",
    "# Generate quarter circle\n",
    "x = np.arange(0,1.01,0.01)\n",
    "y = np.sqrt(1-x**2)\n",
    "plt.figure(figsize=(5,5))\n",
    "plt.plot(x,y)\n",
    "\n",
    "# Generate random points in 1 by 1 square\n",
    "n = 500\n",
    "dots_x = np.random.uniform(0,1,n)\n",
    "dots_y = np.random.uniform(0,1,n)\n",
    "\n",
    "# dots outside the circle\n",
    "plt.scatter(dots_x[dots_y>np.sqrt(1-dots_x**2)], dots_y[dots_y>np.sqrt(1-dots_x**2)])\n",
    "# dots inside the circle\n",
    "plt.scatter(dots_x[dots_y<=np.sqrt(1-dots_x**2)], dots_y[dots_y<=np.sqrt(1-dots_x**2)])"
   ]
  },
  {
   "cell_type": "code",
   "execution_count": 4,
   "metadata": {},
   "outputs": [
    {
     "name": "stdout",
     "output_type": "stream",
     "text": [
      "Estimate: 3.1417008 Pi: 3.141592653589793\n"
     ]
    }
   ],
   "source": [
    "# Solution 2\n",
    "# Generate points\n",
    "n = 10000000\n",
    "dots_x = np.random.uniform(0,1,n)\n",
    "dots_y = np.random.uniform(0,1,n)\n",
    "\n",
    "# array with dots \n",
    "# inside the circle as True (1)\n",
    "# outside the circle as False (0)\n",
    "counter = dots_y<np.sqrt(1-dots_x**2)\n",
    "\n",
    "# True/(True+False)\n",
    "ratio = np.mean(counter)\n",
    "\n",
    "# ratio = pi/4\n",
    "# estimate = ratio*4\n",
    "print('Estimate:', ratio*4, 'Pi:', np.pi)"
   ]
  },
  {
   "cell_type": "markdown",
   "metadata": {},
   "source": [
    "# Question 3\n",
    "\n",
    "You are fabricating an electrode structure etched into the glass. First you etch the glass (100 nm) and then coat an electrode (95 nm) with an insulator on top (4 nm). Your customer requires the remaining gap ( = trench - electrode - insulator) to be between 0-2 nm. Given that your process parameters are normally distributed as Trench N(100, 2), Electrode N(95, 1) and Insulator N(4, 0.5). Guess the percentage of your products that will meet the spec and suggest improvements."
   ]
  },
  {
   "cell_type": "code",
   "execution_count": 5,
   "metadata": {},
   "outputs": [
    {
     "name": "stdout",
     "output_type": "stream",
     "text": [
      "38.0 % meets the spec\n"
     ]
    },
    {
     "data": {
      "image/png": "[encoded data removed]",
      "text/plain": [
       "<Figure size 432x288 with 1 Axes>"
      ]
     },
     "metadata": {
      "needs_background": "light"
     },
     "output_type": "display_data"
    }
   ],
   "source": [
    "# Solution 3\n",
    "n = 100\n",
    "trench = np.random.normal(100, 2, n)\n",
    "electrodes = np.random.normal(95, 1, n)\n",
    "silica = np.random.normal(4, 0.5, n)\n",
    "gap = trench - electrodes - silica\n",
    "plt.hist(gap[gap>2], color = 'red')\n",
    "plt.hist(gap[gap<0], color = 'red')\n",
    "plt.hist(gap[(gap>=0) & (gap<=2)], color = 'blue')\n",
    "print(sum((gap>=0) & (gap<=2))/len(gap)*100, '% meets the spec')"
   ]
  },
  {
   "cell_type": "markdown",
   "metadata": {},
   "source": [
    "# Question 4\n",
    "## Mont Hall Problem\n",
    "\n",
    "Suppose you're on a game show, and you're given the choice of three doors: Behind one door is a car; behind the others, goats. You pick a door, say No. 1, and the host, who knows what's behind the doors, opens another door, say No. 3, which has a goat. He then says to you, \"Do you want to pick door No. 2?\" Is it to your advantage to switch your choice?\n",
    "\n",
    "https://en.wikipedia.org/wiki/Monty_Hall_problem"
   ]
  },
  {
   "cell_type": "code",
   "execution_count": 6,
   "metadata": {},
   "outputs": [
    {
     "data": {
      "text/plain": [
       "(0.6725, 0.3275)"
      ]
     },
     "execution_count": 6,
     "metadata": {},
     "output_type": "execute_result"
    }
   ],
   "source": [
    "# Solution 4\n",
    "'''\n",
    "Assume the car is always behind the door 1\n",
    "If you choose to stay, you only win if you choose 1 in the first place\n",
    "If you choose to switch, you only win if you didn't choose 1 in the first place\n",
    "\n",
    "P(stay) = Randomly choose from [1,2,3], calculate the ratio of 1's.\n",
    "P(switch) = 1-P(stay)\n",
    "'''\n",
    "n = 10000\n",
    "P_stay = sum(np.random.randint(1,4,n)==1)/n\n",
    "P_switch = 1-P_stay\n",
    "P_switch, P_stay"
   ]
  },
  {
   "cell_type": "markdown",
   "metadata": {},
   "source": [
    "# Question 5\n",
    "## Project Euler \n",
    "### Flea Circus (no 213)\n",
    "\n",
    "https://projecteuler.net/problem=213\n",
    "    \n",
    "A 30×30 grid of squares contains 900 fleas, initially one flea per square.\n",
    "When a bell is rung, each flea jumps to an adjacent square at random (usually 4 possibilities, except for fleas on the edge of the grid or at the corners).\n",
    "\n",
    "What is the expected number of unoccupied squares after 50 rings of the bell?"
   ]
  },
  {
   "cell_type": "code",
   "execution_count": 7,
   "metadata": {},
   "outputs": [
    {
     "data": {
      "text/plain": [
       "329.8"
      ]
     },
     "execution_count": 7,
     "metadata": {},
     "output_type": "execute_result"
    }
   ],
   "source": [
    "# Solution 5\n",
    "n = 10\n",
    "rings_of_the_bell = 50\n",
    "board_size = (30,30)\n",
    "trials = []\n",
    "\n",
    "for _ in range(n):\n",
    "    A = np.ones(board_size) # 900 fleas\n",
    "    for _ in range(rings_of_the_bell):\n",
    "        A_next = A.copy()\n",
    "        for i in range(A.shape[0]):\n",
    "            for j in range(A.shape[1]):\n",
    "                moves = np.array([[0,1],[0,-1],[1,0],[-1,0]])\n",
    "                \n",
    "                # update possible moves for corners/edges\n",
    "                if i==0:\n",
    "                    moves = moves[moves[:,0]!=-1]\n",
    "                if i==A.shape[0]-1:\n",
    "                    moves = moves[moves[:,0]!=1]\n",
    "                if j==0:\n",
    "                    moves = moves[moves[:,1]!=-1]\n",
    "                if j==A.shape[1]-1:\n",
    "                    moves = moves[moves[:,1]!=1]\n",
    "                \n",
    "                for flea in range(int(A[i,j])):\n",
    "                    move = np.random.choice(range(len(moves)))\n",
    "                    a,b = moves[move]\n",
    "                    A_next[i+a,j+b]=A_next[i+a,j+b]+1\n",
    "                    A_next[i,j]-=1\n",
    "                            \n",
    "        A=A_next.copy() # move on to the next bell\n",
    "    trials.append(np.sum(A==0)) # count unoccupied squares\n",
    "\n",
    "np.mean(np.array(trials))"
   ]
  },
  {
   "cell_type": "code",
   "execution_count": null,
   "metadata": {},
   "outputs": [],
   "source": []
  }
 ],
 "metadata": {
  "kernelspec": {
   "display_name": "Python 3",
   "language": "python",
   "name": "python3"
  },
  "language_info": {
   "codemirror_mode": {
    "name": "ipython",
    "version": 3
   },
   "file_extension": ".py",
   "mimetype": "text/x-python",
   "name": "python",
   "nbconvert_exporter": "python",
   "pygments_lexer": "ipython3",
   "version": "3.6.5"
  }
 },
 "nbformat": 4,
 "nbformat_minor": 2
}
